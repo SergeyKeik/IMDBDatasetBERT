{
 "cells": [
  {
   "cell_type": "code",
   "execution_count": 1,
   "id": "b94af2b4",
   "metadata": {
    "_cell_guid": "b1076dfc-b9ad-4769-8c92-a6c4dae69d19",
    "_uuid": "8f2839f25d086af736a60e9eeb907d3b93b6e0e5",
    "execution": {
     "iopub.execute_input": "2023-07-21T08:35:11.339308Z",
     "iopub.status.busy": "2023-07-21T08:35:11.338284Z",
     "iopub.status.idle": "2023-07-21T08:35:29.492479Z",
     "shell.execute_reply": "2023-07-21T08:35:29.491529Z"
    },
    "papermill": {
     "duration": 18.165833,
     "end_time": "2023-07-21T08:35:29.494857",
     "exception": false,
     "start_time": "2023-07-21T08:35:11.329024",
     "status": "completed"
    },
    "tags": []
   },
   "outputs": [
    {
     "name": "stderr",
     "output_type": "stream",
     "text": [
      "/opt/conda/lib/python3.10/site-packages/scipy/__init__.py:146: UserWarning: A NumPy version >=1.16.5 and <1.23.0 is required for this version of SciPy (detected version 1.23.5\n",
      "  warnings.warn(f\"A NumPy version >={np_minversion} and <{np_maxversion}\"\n",
      "/opt/conda/lib/python3.10/site-packages/tensorflow_io/python/ops/__init__.py:98: UserWarning: unable to load libtensorflow_io_plugins.so: unable to open file: libtensorflow_io_plugins.so, from paths: ['/opt/conda/lib/python3.10/site-packages/tensorflow_io/python/ops/libtensorflow_io_plugins.so']\n",
      "caused by: ['/opt/conda/lib/python3.10/site-packages/tensorflow_io/python/ops/libtensorflow_io_plugins.so: undefined symbol: _ZN3tsl6StatusC1EN10tensorflow5error4CodeESt17basic_string_viewIcSt11char_traitsIcEENS_14SourceLocationE']\n",
      "  warnings.warn(f\"unable to load libtensorflow_io_plugins.so: {e}\")\n",
      "/opt/conda/lib/python3.10/site-packages/tensorflow_io/python/ops/__init__.py:104: UserWarning: file system plugins are not loaded: unable to open file: libtensorflow_io.so, from paths: ['/opt/conda/lib/python3.10/site-packages/tensorflow_io/python/ops/libtensorflow_io.so']\n",
      "caused by: ['/opt/conda/lib/python3.10/site-packages/tensorflow_io/python/ops/libtensorflow_io.so: undefined symbol: _ZTVN10tensorflow13GcsFileSystemE']\n",
      "  warnings.warn(f\"file system plugins are not loaded: {e}\")\n"
     ]
    }
   ],
   "source": [
    "import numpy as np\n",
    "import matplotlib.pyplot as plt\n",
    "import pandas as pd\n",
    "import re\n",
    "import os\n",
    "import seaborn as sns\n",
    "from sklearn.metrics import accuracy_score\n",
    "import torch\n",
    "from transformers import BertModel\n",
    "from transformers import BertTokenizer\n",
    "from torch.utils.data import TensorDataset, DataLoader\n",
    "import torch.nn as nn\n",
    "from torch.optim import AdamW\n",
    "from transformers import get_linear_schedule_with_warmup\n",
    "from torch.nn.utils.clip_grad import clip_grad_norm\n",
    "from sklearn.metrics import mean_squared_error\n",
    "from sklearn.metrics import precision_recall_fscore_support\n",
    "import pickle"
   ]
  },
  {
   "cell_type": "code",
   "execution_count": 2,
   "id": "99153736",
   "metadata": {
    "execution": {
     "iopub.execute_input": "2023-07-21T08:35:29.509124Z",
     "iopub.status.busy": "2023-07-21T08:35:29.508850Z",
     "iopub.status.idle": "2023-07-21T08:35:29.519061Z",
     "shell.execute_reply": "2023-07-21T08:35:29.518198Z"
    },
    "papermill": {
     "duration": 0.019533,
     "end_time": "2023-07-21T08:35:29.521013",
     "exception": false,
     "start_time": "2023-07-21T08:35:29.501480",
     "status": "completed"
    },
    "tags": []
   },
   "outputs": [],
   "source": [
    "def open_dataset(mode, labeled):\n",
    "    data = []\n",
    "    if labeled:\n",
    "        folder1 = f'/kaggle/input/imdb-dataset/{mode}/neg/'\n",
    "        folder2 = f'/kaggle/input/imdb-dataset/{mode}/pos/'\n",
    "\n",
    "        for filename in os.listdir(folder1):\n",
    "            label = re.split(r'_', filename)[1][:-4]\n",
    "            filepath = os.path.join(folder1, filename)\n",
    "            with open(filepath, 'r', encoding=\"utf-8\") as f:\n",
    "                text = f.read()\n",
    "            data.append((text, label))\n",
    "\n",
    "        for filename in os.listdir(folder2):\n",
    "            label = re.split(r'_', filename)[1][:-4]\n",
    "            filepath = os.path.join(folder2, filename)\n",
    "            with open(filepath, 'r', encoding=\"utf-8\") as f:\n",
    "                text = f.read()\n",
    "            data.append((text, label))\n",
    "\n",
    "\n",
    "        return pd.DataFrame(data, columns=['review', 'rating'])\n",
    "    else:\n",
    "        folder = '/kaggle/input/imdb-dataset/train/unsup/'\n",
    "\n",
    "    \n",
    "        for filename in os.listdir(folder):\n",
    "            filepath = os.path.join(folder, filename)\n",
    "            with open(filepath, 'r', encoding=\"utf-8\") as f:\n",
    "                text = f.read()\n",
    "            data.append(text)\n",
    "        return data"
   ]
  },
  {
   "cell_type": "code",
   "execution_count": 3,
   "id": "c2a22e61",
   "metadata": {
    "execution": {
     "iopub.execute_input": "2023-07-21T08:35:29.534527Z",
     "iopub.status.busy": "2023-07-21T08:35:29.534215Z",
     "iopub.status.idle": "2023-07-21T08:38:14.057810Z",
     "shell.execute_reply": "2023-07-21T08:38:14.056751Z"
    },
    "papermill": {
     "duration": 164.533267,
     "end_time": "2023-07-21T08:38:14.060627",
     "exception": false,
     "start_time": "2023-07-21T08:35:29.527360",
     "status": "completed"
    },
    "tags": []
   },
   "outputs": [],
   "source": [
    "train_df = open_dataset('train', labeled=True)\n",
    "test_df = open_dataset('test', labeled=True)"
   ]
  },
  {
   "cell_type": "code",
   "execution_count": 4,
   "id": "4359afa4",
   "metadata": {
    "execution": {
     "iopub.execute_input": "2023-07-21T08:38:14.077012Z",
     "iopub.status.busy": "2023-07-21T08:38:14.075457Z",
     "iopub.status.idle": "2023-07-21T08:38:14.424219Z",
     "shell.execute_reply": "2023-07-21T08:38:14.423184Z"
    },
    "papermill": {
     "duration": 0.358343,
     "end_time": "2023-07-21T08:38:14.426377",
     "exception": false,
     "start_time": "2023-07-21T08:38:14.068034",
     "status": "completed"
    },
    "tags": []
   },
   "outputs": [
    {
     "data": {
      "image/png": "[encoded data removed]",
      "text/plain": [
       "<Figure size 640x480 with 1 Axes>"
      ]
     },
     "metadata": {},
     "output_type": "display_data"
    }
   ],
   "source": [
    "sns.countplot(x='rating', data=train_df)\n",
    "plt.title('Rating distribution')\n",
    "plt.show()"
   ]
  },
  {
   "cell_type": "code",
   "execution_count": 5,
   "id": "e4ba814b",
   "metadata": {
    "execution": {
     "iopub.execute_input": "2023-07-21T08:38:14.442253Z",
     "iopub.status.busy": "2023-07-21T08:38:14.440758Z",
     "iopub.status.idle": "2023-07-21T08:38:14.447206Z",
     "shell.execute_reply": "2023-07-21T08:38:14.446372Z"
    },
    "papermill": {
     "duration": 0.016092,
     "end_time": "2023-07-21T08:38:14.449140",
     "exception": false,
     "start_time": "2023-07-21T08:38:14.433048",
     "status": "completed"
    },
    "tags": []
   },
   "outputs": [],
   "source": [
    "def preprocess_data_for_BERT(text):\n",
    "    text = text.lower()\n",
    "    text = re.sub(r'<br />', '', text)\n",
    "    text = re.sub(r'[^\\w\\s!\\\\/]', '', text)\n",
    "    pattern = r'(http\\:\\/\\/|https\\:\\/\\/)?([a-z0-9][a-z0-9\\-]*\\.)+[a-z][a-z\\-]*'\n",
    "    text = re.sub(pattern, '', text)\n",
    "    return text"
   ]
  },
  {
   "cell_type": "code",
   "execution_count": 6,
   "id": "35d4cad8",
   "metadata": {
    "execution": {
     "iopub.execute_input": "2023-07-21T08:38:14.464558Z",
     "iopub.status.busy": "2023-07-21T08:38:14.463679Z",
     "iopub.status.idle": "2023-07-21T08:45:39.072986Z",
     "shell.execute_reply": "2023-07-21T08:45:39.071958Z"
    },
    "papermill": {
     "duration": 444.620396,
     "end_time": "2023-07-21T08:45:39.076247",
     "exception": false,
     "start_time": "2023-07-21T08:38:14.455851",
     "status": "completed"
    },
    "tags": []
   },
   "outputs": [
    {
     "data": {
      "application/vnd.jupyter.widget-view+json": {
       "model_id": "e06d381ebe0b4098a12be3e235606924",
       "version_major": 2,
       "version_minor": 0
      },
      "text/plain": [
       "Downloading (…)solve/main/vocab.txt:   0%|          | 0.00/232k [00:00<?, ?B/s]"
      ]
     },
     "metadata": {},
     "output_type": "display_data"
    },
    {
     "data": {
      "application/vnd.jupyter.widget-view+json": {
       "model_id": "13046a5b48e240ba808945885bf0c812",
       "version_major": 2,
       "version_minor": 0
      },
      "text/plain": [
       "Downloading (…)okenizer_config.json:   0%|          | 0.00/28.0 [00:00<?, ?B/s]"
      ]
     },
     "metadata": {},
     "output_type": "display_data"
    },
    {
     "data": {
      "application/vnd.jupyter.widget-view+json": {
       "model_id": "574cc3e342264fc1af90dd9425c700b5",
       "version_major": 2,
       "version_minor": 0
      },
      "text/plain": [
       "Downloading (…)lve/main/config.json:   0%|          | 0.00/570 [00:00<?, ?B/s]"
      ]
     },
     "metadata": {},
     "output_type": "display_data"
    }
   ],
   "source": [
    "tokenizer = BertTokenizer.from_pretrained('bert-base-uncased')\n",
    "train_df['review'] = train_df['review'].apply(preprocess_data_for_BERT)\n",
    "test_df['review'] = test_df['review'].apply(preprocess_data_for_BERT)\n",
    "encoded_train = tokenizer(text=train_df.review.tolist(),\n",
    "                            add_special_tokens=True,\n",
    "                            padding='max_length',\n",
    "                            truncation='longest_first',\n",
    "                            max_length=512,\n",
    "                            return_attention_mask=True)\n",
    "encoded_test = tokenizer(text=test_df.review.tolist(),\n",
    "                            add_special_tokens=True,\n",
    "                            padding='max_length',\n",
    "                            truncation='longest_first',\n",
    "                            max_length=512,\n",
    "                            return_attention_mask=True)\n"
   ]
  },
  {
   "cell_type": "code",
   "execution_count": 7,
   "id": "17cf2568",
   "metadata": {
    "execution": {
     "iopub.execute_input": "2023-07-21T08:45:39.104025Z",
     "iopub.status.busy": "2023-07-21T08:45:39.103657Z",
     "iopub.status.idle": "2023-07-21T08:45:39.127320Z",
     "shell.execute_reply": "2023-07-21T08:45:39.126434Z"
    },
    "papermill": {
     "duration": 0.038527,
     "end_time": "2023-07-21T08:45:39.130118",
     "exception": false,
     "start_time": "2023-07-21T08:45:39.091591",
     "status": "completed"
    },
    "tags": []
   },
   "outputs": [],
   "source": [
    "X_train = encoded_train['input_ids']\n",
    "y_train = train_df['rating'].astype('float32').to_numpy()\n",
    "X_test = encoded_test['input_ids']\n",
    "y_test = test_df['rating'].astype('float32').to_numpy()\n",
    "mask_train = encoded_train['attention_mask']\n",
    "mask_test = encoded_test['attention_mask']"
   ]
  },
  {
   "cell_type": "code",
   "execution_count": 8,
   "id": "0995d9db",
   "metadata": {
    "execution": {
     "iopub.execute_input": "2023-07-21T08:45:39.152570Z",
     "iopub.status.busy": "2023-07-21T08:45:39.152232Z",
     "iopub.status.idle": "2023-07-21T08:45:39.158211Z",
     "shell.execute_reply": "2023-07-21T08:45:39.157421Z"
    },
    "papermill": {
     "duration": 0.021175,
     "end_time": "2023-07-21T08:45:39.162217",
     "exception": false,
     "start_time": "2023-07-21T08:45:39.141042",
     "status": "completed"
    },
    "tags": []
   },
   "outputs": [],
   "source": [
    "def create_dataloaders(inputs, masks, labels, batch_size):\n",
    "    input_tensor = torch.tensor(inputs)\n",
    "    mask_tensor = torch.tensor(masks)\n",
    "    labels_tensor = torch.tensor(labels)\n",
    "    dataset = TensorDataset(input_tensor, mask_tensor, \n",
    "                            labels_tensor)\n",
    "    dataloader = DataLoader(dataset, batch_size=batch_size, \n",
    "                            shuffle=True)\n",
    "    return dataloader"
   ]
  },
  {
   "cell_type": "code",
   "execution_count": 9,
   "id": "01be8472",
   "metadata": {
    "execution": {
     "iopub.execute_input": "2023-07-21T08:45:39.183674Z",
     "iopub.status.busy": "2023-07-21T08:45:39.183365Z",
     "iopub.status.idle": "2023-07-21T08:45:56.752718Z",
     "shell.execute_reply": "2023-07-21T08:45:56.751623Z"
    },
    "papermill": {
     "duration": 17.583222,
     "end_time": "2023-07-21T08:45:56.755376",
     "exception": false,
     "start_time": "2023-07-21T08:45:39.172154",
     "status": "completed"
    },
    "tags": []
   },
   "outputs": [],
   "source": [
    "batch_size = 16\n",
    "train_dataloader = create_dataloaders(X_train, mask_train, \n",
    "                                      y_train, batch_size)\n",
    "test_dataloader = create_dataloaders(X_test, mask_test, \n",
    "                                     y_test, batch_size)"
   ]
  },
  {
   "cell_type": "code",
   "execution_count": 10,
   "id": "59708838",
   "metadata": {
    "execution": {
     "iopub.execute_input": "2023-07-21T08:45:56.772783Z",
     "iopub.status.busy": "2023-07-21T08:45:56.772466Z",
     "iopub.status.idle": "2023-07-21T08:45:56.779786Z",
     "shell.execute_reply": "2023-07-21T08:45:56.778787Z"
    },
    "papermill": {
     "duration": 0.019002,
     "end_time": "2023-07-21T08:45:56.782036",
     "exception": false,
     "start_time": "2023-07-21T08:45:56.763034",
     "status": "completed"
    },
    "tags": []
   },
   "outputs": [],
   "source": [
    "class BertRegressor(nn.Module):\n",
    "    def __init__(self, drop_rate = 0.2, freeze_bert = False):\n",
    "        super(BertRegressor, self).__init__()\n",
    "        self.bert = BertModel.from_pretrained('bert-base-uncased')\n",
    "        d_in = 768\n",
    "        d_out = 1\n",
    "        self.regression_layer = nn.Sequential(\n",
    "\n",
    "            nn.Dropout(drop_rate),\n",
    "            nn.Linear(d_in, d_out)\n",
    "        )\n",
    "    def forward(self, X, masks):\n",
    "        output = self.bert(X, masks)\n",
    "        return self.regression_layer(output[1])"
   ]
  },
  {
   "cell_type": "code",
   "execution_count": 11,
   "id": "78bfa55a",
   "metadata": {
    "execution": {
     "iopub.execute_input": "2023-07-21T08:45:56.797982Z",
     "iopub.status.busy": "2023-07-21T08:45:56.797712Z",
     "iopub.status.idle": "2023-07-21T08:46:09.898158Z",
     "shell.execute_reply": "2023-07-21T08:46:09.897111Z"
    },
    "papermill": {
     "duration": 13.112371,
     "end_time": "2023-07-21T08:46:09.901807",
     "exception": false,
     "start_time": "2023-07-21T08:45:56.789436",
     "status": "completed"
    },
    "tags": []
   },
   "outputs": [
    {
     "data": {
      "application/vnd.jupyter.widget-view+json": {
       "model_id": "56477aa83d734abb83871b92222698cd",
       "version_major": 2,
       "version_minor": 0
      },
      "text/plain": [
       "Downloading model.safetensors:   0%|          | 0.00/440M [00:00<?, ?B/s]"
      ]
     },
     "metadata": {},
     "output_type": "display_data"
    },
    {
     "name": "stderr",
     "output_type": "stream",
     "text": [
      "Some weights of the model checkpoint at bert-base-uncased were not used when initializing BertModel: ['cls.predictions.transform.LayerNorm.weight', 'cls.predictions.transform.dense.bias', 'cls.predictions.bias', 'cls.predictions.transform.dense.weight', 'cls.seq_relationship.weight', 'cls.predictions.transform.LayerNorm.bias', 'cls.seq_relationship.bias']\n",
      "- This IS expected if you are initializing BertModel from the checkpoint of a model trained on another task or with another architecture (e.g. initializing a BertForSequenceClassification model from a BertForPreTraining model).\n",
      "- This IS NOT expected if you are initializing BertModel from the checkpoint of a model that you expect to be exactly identical (initializing a BertForSequenceClassification model from a BertForSequenceClassification model).\n"
     ]
    },
    {
     "name": "stdout",
     "output_type": "stream",
     "text": [
      "Using GPU.\n"
     ]
    },
    {
     "data": {
      "text/plain": [
       "<All keys matched successfully>"
      ]
     },
     "execution_count": 11,
     "metadata": {},
     "output_type": "execute_result"
    }
   ],
   "source": [
    "model = BertRegressor(drop_rate=0.2)\n",
    "if torch.cuda.is_available():       \n",
    "    device = torch.device(\"cuda\")\n",
    "    print(\"Using GPU.\")\n",
    "else:\n",
    "    print(\"No GPU available, using the CPU instead.\")\n",
    "    device = torch.device(\"cpu\")\n",
    "model.to(device)\n",
    "model.load_state_dict(torch.load('/kaggle/input/bertmodel1/model.pth'))"
   ]
  },
  {
   "cell_type": "code",
   "execution_count": 12,
   "id": "6fbcab07",
   "metadata": {
    "execution": {
     "iopub.execute_input": "2023-07-21T08:46:09.929648Z",
     "iopub.status.busy": "2023-07-21T08:46:09.929193Z",
     "iopub.status.idle": "2023-07-21T08:46:09.942862Z",
     "shell.execute_reply": "2023-07-21T08:46:09.940914Z"
    },
    "papermill": {
     "duration": 0.032506,
     "end_time": "2023-07-21T08:46:09.947887",
     "exception": false,
     "start_time": "2023-07-21T08:46:09.915381",
     "status": "completed"
    },
    "tags": []
   },
   "outputs": [],
   "source": [
    "def get_result(model, data_loader, device):\n",
    "    model.eval()\n",
    "    y_true, y_pred = [], []\n",
    "    for batch in test_dataloader:\n",
    "        batch_inputs, batch_masks, batch_labels = \\\n",
    "                                 tuple(b.to(device) for b in batch)\n",
    "        # print(batch_inputs.shape, batch_labels)\n",
    "        with torch.no_grad():\n",
    "            outputs = model(batch_inputs, batch_masks)\n",
    "        # print(outputs)\n",
    "        y_pred.extend(torch.flatten(outputs.to('cpu')).tolist())\n",
    "        y_true.extend(batch_labels.to('cpu').tolist())\n",
    "        \n",
    "    return y_true, y_pred"
   ]
  },
  {
   "cell_type": "code",
   "execution_count": 13,
   "id": "5bcaa888",
   "metadata": {
    "execution": {
     "iopub.execute_input": "2023-07-21T08:46:09.980772Z",
     "iopub.status.busy": "2023-07-21T08:46:09.980418Z",
     "iopub.status.idle": "2023-07-21T08:46:09.997155Z",
     "shell.execute_reply": "2023-07-21T08:46:09.996304Z"
    },
    "papermill": {
     "duration": 0.034901,
     "end_time": "2023-07-21T08:46:09.999759",
     "exception": false,
     "start_time": "2023-07-21T08:46:09.964858",
     "status": "completed"
    },
    "tags": []
   },
   "outputs": [],
   "source": [
    "def transform(x):\n",
    "    x = int(round(x))\n",
    "    if x > 10:\n",
    "        return 10\n",
    "    if x < 1:\n",
    "        return 1\n",
    "    return x\n",
    "def get_metrics(y_true, y_pred):\n",
    "    metrics = []\n",
    "    mse = mean_squared_error(y_true=y_true, y_pred=y_pred)\n",
    "    metrics.append(('MSE', mse))\n",
    "    simplify = lambda x: 1 if x >= 5 else 0\n",
    "    y_true = [int(x) for x in y_true]\n",
    "    y_pred = [transform(x) for x in y_pred]\n",
    "    y_true_simple = [simplify(x) for x in y_true]\n",
    "    y_pred_simple = [simplify(x) for x in y_pred]\n",
    "    simple_accuracy = accuracy_score(y_pred=y_pred_simple, y_true=y_true_simple)\n",
    "    metrics.append(('Accuracy for pos/neg', simple_accuracy))\n",
    "    accuracy = accuracy_score(y_pred=y_pred, y_true=y_true)\n",
    "    metrics.append(('Accuracy for multiple labels', accuracy))\n",
    "    precision, recall, f_score, _ = precision_recall_fscore_support(y_pred=y_pred, y_true=y_true, average='weighted')\n",
    "    metrics.append(('Precision', precision))\n",
    "    metrics.append(('Recall', recall))\n",
    "    metrics.append(('F-score', f_score))\n",
    "    return pd.DataFrame(metrics, columns=['Metric', 'Value'])\n"
   ]
  },
  {
   "cell_type": "code",
   "execution_count": 14,
   "id": "e5a35b99",
   "metadata": {
    "execution": {
     "iopub.execute_input": "2023-07-21T08:46:10.025561Z",
     "iopub.status.busy": "2023-07-21T08:46:10.025205Z",
     "iopub.status.idle": "2023-07-21T08:59:22.172105Z",
     "shell.execute_reply": "2023-07-21T08:59:22.171116Z"
    },
    "papermill": {
     "duration": 792.161755,
     "end_time": "2023-07-21T08:59:22.174799",
     "exception": false,
     "start_time": "2023-07-21T08:46:10.013044",
     "status": "completed"
    },
    "tags": []
   },
   "outputs": [],
   "source": [
    "y_true, y_pred = get_result(model, test_dataloader, 'cuda')"
   ]
  },
  {
   "cell_type": "code",
   "execution_count": 15,
   "id": "789e5b86",
   "metadata": {
    "execution": {
     "iopub.execute_input": "2023-07-21T08:59:22.191989Z",
     "iopub.status.busy": "2023-07-21T08:59:22.191686Z",
     "iopub.status.idle": "2023-07-21T08:59:22.200078Z",
     "shell.execute_reply": "2023-07-21T08:59:22.199187Z"
    },
    "papermill": {
     "duration": 0.019288,
     "end_time": "2023-07-21T08:59:22.202120",
     "exception": false,
     "start_time": "2023-07-21T08:59:22.182832",
     "status": "completed"
    },
    "tags": []
   },
   "outputs": [],
   "source": [
    "with open('datap1.pickle', 'wb') as f:\n",
    "    pickle.dump(y_pred, f, pickle.HIGHEST_PROTOCOL)\n",
    "with open('datat1.pickle', 'wb') as f:\n",
    "    pickle.dump(y_true, f, pickle.HIGHEST_PROTOCOL)"
   ]
  },
  {
   "cell_type": "code",
   "execution_count": 16,
   "id": "8483c6df",
   "metadata": {
    "execution": {
     "iopub.execute_input": "2023-07-21T08:59:22.218318Z",
     "iopub.status.busy": "2023-07-21T08:59:22.218014Z",
     "iopub.status.idle": "2023-07-21T08:59:22.357336Z",
     "shell.execute_reply": "2023-07-21T08:59:22.356300Z"
    },
    "papermill": {
     "duration": 0.150183,
     "end_time": "2023-07-21T08:59:22.359673",
     "exception": false,
     "start_time": "2023-07-21T08:59:22.209490",
     "status": "completed"
    },
    "tags": []
   },
   "outputs": [
    {
     "name": "stderr",
     "output_type": "stream",
     "text": [
      "/opt/conda/lib/python3.10/site-packages/sklearn/metrics/_classification.py:1344: UndefinedMetricWarning: Recall and F-score are ill-defined and being set to 0.0 in labels with no true samples. Use `zero_division` parameter to control this behavior.\n",
      "  _warn_prf(average, modifier, msg_start, len(result))\n"
     ]
    },
    {
     "data": {
      "text/html": [
       "<div>\n",
       "<style scoped>\n",
       "    .dataframe tbody tr th:only-of-type {\n",
       "        vertical-align: middle;\n",
       "    }\n",
       "\n",
       "    .dataframe tbody tr th {\n",
       "        vertical-align: top;\n",
       "    }\n",
       "\n",
       "    .dataframe thead th {\n",
       "        text-align: right;\n",
       "    }\n",
       "</style>\n",
       "<table border=\"1\" class=\"dataframe\">\n",
       "  <thead>\n",
       "    <tr style=\"text-align: right;\">\n",
       "      <th></th>\n",
       "      <th>Metric</th>\n",
       "      <th>Value</th>\n",
       "    </tr>\n",
       "  </thead>\n",
       "  <tbody>\n",
       "    <tr>\n",
       "      <th>0</th>\n",
       "      <td>MSE</td>\n",
       "      <td>2.417684</td>\n",
       "    </tr>\n",
       "    <tr>\n",
       "      <th>1</th>\n",
       "      <td>Accuracy for pos/neg</td>\n",
       "      <td>0.933880</td>\n",
       "    </tr>\n",
       "    <tr>\n",
       "      <th>2</th>\n",
       "      <td>Accuracy for multiple labels</td>\n",
       "      <td>0.459200</td>\n",
       "    </tr>\n",
       "    <tr>\n",
       "      <th>3</th>\n",
       "      <td>Precision</td>\n",
       "      <td>0.500495</td>\n",
       "    </tr>\n",
       "    <tr>\n",
       "      <th>4</th>\n",
       "      <td>Recall</td>\n",
       "      <td>0.459200</td>\n",
       "    </tr>\n",
       "    <tr>\n",
       "      <th>5</th>\n",
       "      <td>F-score</td>\n",
       "      <td>0.476674</td>\n",
       "    </tr>\n",
       "  </tbody>\n",
       "</table>\n",
       "</div>"
      ],
      "text/plain": [
       "                         Metric     Value\n",
       "0                           MSE  2.417684\n",
       "1          Accuracy for pos/neg  0.933880\n",
       "2  Accuracy for multiple labels  0.459200\n",
       "3                     Precision  0.500495\n",
       "4                        Recall  0.459200\n",
       "5                       F-score  0.476674"
      ]
     },
     "execution_count": 16,
     "metadata": {},
     "output_type": "execute_result"
    }
   ],
   "source": [
    "test_results = get_metrics(y_true, y_pred)\n",
    "test_results"
   ]
  },
  {
   "cell_type": "code",
   "execution_count": 17,
   "id": "73dfa41e",
   "metadata": {
    "execution": {
     "iopub.execute_input": "2023-07-21T08:59:22.378683Z",
     "iopub.status.busy": "2023-07-21T08:59:22.378402Z",
     "iopub.status.idle": "2023-07-21T08:59:22.385384Z",
     "shell.execute_reply": "2023-07-21T08:59:22.384305Z"
    },
    "papermill": {
     "duration": 0.018707,
     "end_time": "2023-07-21T08:59:22.387591",
     "exception": false,
     "start_time": "2023-07-21T08:59:22.368884",
     "status": "completed"
    },
    "tags": []
   },
   "outputs": [],
   "source": [
    "learning_rate = 5e-5\n",
    "optimizer = AdamW(model.parameters(), lr=learning_rate, eps=1e-8)\n",
    "epochs = 5\n",
    "steps = epochs * len(train_dataloader)\n",
    "scheduler = get_linear_schedule_with_warmup(optimizer, num_warmup_steps=0, num_training_steps=steps)\n",
    "loss_function = nn.MSELoss()"
   ]
  },
  {
   "cell_type": "code",
   "execution_count": 18,
   "id": "164d35e7",
   "metadata": {
    "execution": {
     "iopub.execute_input": "2023-07-21T08:59:22.405226Z",
     "iopub.status.busy": "2023-07-21T08:59:22.404490Z",
     "iopub.status.idle": "2023-07-21T12:05:39.431304Z",
     "shell.execute_reply": "2023-07-21T12:05:39.430313Z"
    },
    "papermill": {
     "duration": 11177.038422,
     "end_time": "2023-07-21T12:05:39.434039",
     "exception": false,
     "start_time": "2023-07-21T08:59:22.395617",
     "status": "completed"
    },
    "tags": []
   },
   "outputs": [
    {
     "name": "stdout",
     "output_type": "stream",
     "text": [
      "0\n",
      "-----\n"
     ]
    },
    {
     "name": "stderr",
     "output_type": "stream",
     "text": [
      "/tmp/ipykernel_22/613805806.py:15: UserWarning: torch.nn.utils.clip_grad_norm is now deprecated in favor of torch.nn.utils.clip_grad_norm_.\n",
      "  clip_grad_norm(model.parameters(), clip_value)\n"
     ]
    },
    {
     "name": "stdout",
     "output_type": "stream",
     "text": [
      "1\n",
      "-----\n",
      "2\n",
      "-----\n",
      "3\n",
      "-----\n",
      "4\n",
      "-----\n"
     ]
    }
   ],
   "source": [
    "def train(model, optimizer, scheduler, loss_function, epochs,       \n",
    "          train_dataloader, device, clip_value=2):\n",
    "    for epoch in range(epochs):\n",
    "        print(epoch)\n",
    "        print(\"-----\")\n",
    "        model.train()\n",
    "        for step, batch in enumerate(train_dataloader): \n",
    "            batch_inputs, batch_masks, batch_labels = \\\n",
    "                               tuple(b.to(device) for b in batch)\n",
    "            model.zero_grad()\n",
    "            outputs = model(batch_inputs, batch_masks)           \n",
    "            loss = loss_function(outputs.squeeze(), \n",
    "                             batch_labels.squeeze())\n",
    "            loss.backward()\n",
    "            clip_grad_norm(model.parameters(), clip_value)\n",
    "            optimizer.step()\n",
    "            scheduler.step()\n",
    "                \n",
    "    return model\n",
    "model = train(model, optimizer, scheduler, loss_function, epochs, \n",
    "              train_dataloader, device, clip_value=2)"
   ]
  },
  {
   "cell_type": "code",
   "execution_count": 19,
   "id": "d23a5a77",
   "metadata": {
    "execution": {
     "iopub.execute_input": "2023-07-21T12:05:39.452637Z",
     "iopub.status.busy": "2023-07-21T12:05:39.452345Z",
     "iopub.status.idle": "2023-07-21T12:05:40.061373Z",
     "shell.execute_reply": "2023-07-21T12:05:40.060400Z"
    },
    "papermill": {
     "duration": 0.620963,
     "end_time": "2023-07-21T12:05:40.063904",
     "exception": false,
     "start_time": "2023-07-21T12:05:39.442941",
     "status": "completed"
    },
    "tags": []
   },
   "outputs": [],
   "source": [
    "torch.save(model.state_dict(), 'model2.pth')"
   ]
  },
  {
   "cell_type": "code",
   "execution_count": 20,
   "id": "874a3a4e",
   "metadata": {
    "execution": {
     "iopub.execute_input": "2023-07-21T12:05:40.082592Z",
     "iopub.status.busy": "2023-07-21T12:05:40.082036Z",
     "iopub.status.idle": "2023-07-21T12:18:55.855982Z",
     "shell.execute_reply": "2023-07-21T12:18:55.854652Z"
    },
    "papermill": {
     "duration": 795.785983,
     "end_time": "2023-07-21T12:18:55.858682",
     "exception": false,
     "start_time": "2023-07-21T12:05:40.072699",
     "status": "completed"
    },
    "tags": []
   },
   "outputs": [],
   "source": [
    "y_true, y_pred = get_result(model, test_dataloader, 'cuda')"
   ]
  },
  {
   "cell_type": "code",
   "execution_count": 21,
   "id": "c7128cf6",
   "metadata": {
    "execution": {
     "iopub.execute_input": "2023-07-21T12:18:55.878819Z",
     "iopub.status.busy": "2023-07-21T12:18:55.878495Z",
     "iopub.status.idle": "2023-07-21T12:18:56.011208Z",
     "shell.execute_reply": "2023-07-21T12:18:56.010277Z"
    },
    "papermill": {
     "duration": 0.154167,
     "end_time": "2023-07-21T12:18:56.022591",
     "exception": false,
     "start_time": "2023-07-21T12:18:55.868424",
     "status": "completed"
    },
    "tags": []
   },
   "outputs": [
    {
     "name": "stderr",
     "output_type": "stream",
     "text": [
      "/opt/conda/lib/python3.10/site-packages/sklearn/metrics/_classification.py:1344: UndefinedMetricWarning: Recall and F-score are ill-defined and being set to 0.0 in labels with no true samples. Use `zero_division` parameter to control this behavior.\n",
      "  _warn_prf(average, modifier, msg_start, len(result))\n"
     ]
    },
    {
     "data": {
      "text/html": [
       "<div>\n",
       "<style scoped>\n",
       "    .dataframe tbody tr th:only-of-type {\n",
       "        vertical-align: middle;\n",
       "    }\n",
       "\n",
       "    .dataframe tbody tr th {\n",
       "        vertical-align: top;\n",
       "    }\n",
       "\n",
       "    .dataframe thead th {\n",
       "        text-align: right;\n",
       "    }\n",
       "</style>\n",
       "<table border=\"1\" class=\"dataframe\">\n",
       "  <thead>\n",
       "    <tr style=\"text-align: right;\">\n",
       "      <th></th>\n",
       "      <th>Metric</th>\n",
       "      <th>Value</th>\n",
       "    </tr>\n",
       "  </thead>\n",
       "  <tbody>\n",
       "    <tr>\n",
       "      <th>0</th>\n",
       "      <td>MSE</td>\n",
       "      <td>2.525892</td>\n",
       "    </tr>\n",
       "    <tr>\n",
       "      <th>1</th>\n",
       "      <td>Accuracy for pos/neg</td>\n",
       "      <td>0.933480</td>\n",
       "    </tr>\n",
       "    <tr>\n",
       "      <th>2</th>\n",
       "      <td>Accuracy for multiple labels</td>\n",
       "      <td>0.460360</td>\n",
       "    </tr>\n",
       "    <tr>\n",
       "      <th>3</th>\n",
       "      <td>Precision</td>\n",
       "      <td>0.508720</td>\n",
       "    </tr>\n",
       "    <tr>\n",
       "      <th>4</th>\n",
       "      <td>Recall</td>\n",
       "      <td>0.460360</td>\n",
       "    </tr>\n",
       "    <tr>\n",
       "      <th>5</th>\n",
       "      <td>F-score</td>\n",
       "      <td>0.478250</td>\n",
       "    </tr>\n",
       "  </tbody>\n",
       "</table>\n",
       "</div>"
      ],
      "text/plain": [
       "                         Metric     Value\n",
       "0                           MSE  2.525892\n",
       "1          Accuracy for pos/neg  0.933480\n",
       "2  Accuracy for multiple labels  0.460360\n",
       "3                     Precision  0.508720\n",
       "4                        Recall  0.460360\n",
       "5                       F-score  0.478250"
      ]
     },
     "execution_count": 21,
     "metadata": {},
     "output_type": "execute_result"
    }
   ],
   "source": [
    "test_results = get_metrics(y_true, y_pred)\n",
    "test_results"
   ]
  },
  {
   "cell_type": "code",
   "execution_count": 22,
   "id": "80051ee4",
   "metadata": {
    "execution": {
     "iopub.execute_input": "2023-07-21T12:18:56.064488Z",
     "iopub.status.busy": "2023-07-21T12:18:56.064072Z",
     "iopub.status.idle": "2023-07-21T12:18:56.073522Z",
     "shell.execute_reply": "2023-07-21T12:18:56.072552Z"
    },
    "papermill": {
     "duration": 0.034655,
     "end_time": "2023-07-21T12:18:56.075718",
     "exception": false,
     "start_time": "2023-07-21T12:18:56.041063",
     "status": "completed"
    },
    "tags": []
   },
   "outputs": [],
   "source": [
    "with open('datap2.pickle', 'wb') as f:\n",
    "    pickle.dump(y_pred, f, pickle.HIGHEST_PROTOCOL)\n",
    "with open('datat2.pickle', 'wb') as f:\n",
    "    pickle.dump(y_true, f, pickle.HIGHEST_PROTOCOL)"
   ]
  }
 ],
 "metadata": {
  "kernelspec": {
   "display_name": "Python 3",
   "language": "python",
   "name": "python3"
  },
  "language_info": {
   "codemirror_mode": {
    "name": "ipython",
    "version": 3
   },
   "file_extension": ".py",
   "mimetype": "text/x-python",
   "name": "python",
   "nbconvert_exporter": "python",
   "pygments_lexer": "ipython3",
   "version": "3.10.12"
  },
  "papermill": {
   "default_parameters": {},
   "duration": 13439.165821,
   "end_time": "2023-07-21T12:18:59.033846",
   "environment_variables": {},
   "exception": null,
   "input_path": "__notebook__.ipynb",
   "output_path": "__notebook__.ipynb",
   "parameters": {},
   "start_time": "2023-07-21T08:34:59.868025",
   "version": "2.4.0"
  },
  "widgets": {
   "application/vnd.jupyter.widget-state+json": {
    "state": {
     "027b2e7a75a34c59af7b5b68a07ea4be": {
      "model_module": "@jupyter-widgets/controls",
      "model_module_version": "1.5.0",
      "model_name": "HTMLModel",
      "state": {
       "_dom_classes": [],
       "_model_module": "@jupyter-widgets/controls",
       "_model_module_version": "1.5.0",
       "_model_name": "HTMLModel",
       "_view_count": null,
       "_view_module": "@jupyter-widgets/controls",
       "_view_module_version": "1.5.0",
       "_view_name": "HTMLView",
       "description": "",
       "description_tooltip": null,
       "layout": "IPY_MODEL_d4320aaecbe949498a8636d4fe7f1737",
       "placeholder": "​",
       "style": "IPY_MODEL_ec52cb0f024c49369f166d5d50e71450",
       "value": "Downloading (…)okenizer_config.json: 100%"
      }
     },
     "0dfee13fadcd4360a00b3f110d51a48e": {
      "model_module": "@jupyter-widgets/controls",
      "model_module_version": "1.5.0",
      "model_name": "DescriptionStyleModel",
      "state": {
       "_model_module": "@jupyter-widgets/controls",
       "_model_module_version": "1.5.0",
       "_model_name": "DescriptionStyleModel",
       "_view_count": null,
       "_view_module": "@jupyter-widgets/base",
       "_view_module_version": "1.2.0",
       "_view_name": "StyleView",
       "description_width": ""
      }
     },
     "10ea7636908745e0a58d7113206a43a0": {
      "model_module": "@jupyter-widgets/controls",
      "model_module_version": "1.5.0",
      "model_name": "ProgressStyleModel",
      "state": {
       "_model_module": "@jupyter-widgets/controls",
       "_model_module_version": "1.5.0",
       "_model_name": "ProgressStyleModel",
       "_view_count": null,
       "_view_module": "@jupyter-widgets/base",
       "_view_module_version": "1.2.0",
       "_view_name": "StyleView",
       "bar_color": null,
       "description_width": ""
      }
     },
     "12c1226899ca4737a30e7d146ac6c1a0": {
      "model_module": "@jupyter-widgets/base",
      "model_module_version": "1.2.0",
      "model_name": "LayoutModel",
      "state": {
       "_model_module": "@jupyter-widgets/base",
       "_model_module_version": "1.2.0",
       "_model_name": "LayoutModel",
       "_view_count": null,
       "_view_module": "@jupyter-widgets/base",
       "_view_module_version": "1.2.0",
       "_view_name": "LayoutView",
       "align_content": null,
       "align_items": null,
       "align_self": null,
       "border": null,
       "bottom": null,
       "display": null,
       "flex": null,
       "flex_flow": null,
       "grid_area": null,
       "grid_auto_columns": null,
       "grid_auto_flow": null,
       "grid_auto_rows": null,
       "grid_column": null,
       "grid_gap": null,
       "grid_row": null,
       "grid_template_areas": null,
       "grid_template_columns": null,
       "grid_template_rows": null,
       "height": null,
       "justify_content": null,
       "justify_items": null,
       "left": null,
       "margin": null,
       "max_height": null,
       "max_width": null,
       "min_height": null,
       "min_width": null,
       "object_fit": null,
       "object_position": null,
       "order": null,
       "overflow": null,
       "overflow_x": null,
       "overflow_y": null,
       "padding": null,
       "right": null,
       "top": null,
       "visibility": null,
       "width": null
      }
     },
     "13046a5b48e240ba808945885bf0c812": {
      "model_module": "@jupyter-widgets/controls",
      "model_module_version": "1.5.0",
      "model_name": "HBoxModel",
      "state": {
       "_dom_classes": [],
       "_model_module": "@jupyter-widgets/controls",
       "_model_module_version": "1.5.0",
       "_model_name": "HBoxModel",
       "_view_count": null,
       "_view_module": "@jupyter-widgets/controls",
       "_view_module_version": "1.5.0",
       "_view_name": "HBoxView",
       "box_style": "",
       "children": [
        "IPY_MODEL_027b2e7a75a34c59af7b5b68a07ea4be",
        "IPY_MODEL_68a4d5a0381f4d6c8aeabfa323948bcf",
        "IPY_MODEL_9c6d59a10344462fa5b62cb871b61f82"
       ],
       "layout": "IPY_MODEL_2acc42ff70df474eabf5e33f4a3ca412"
      }
     },
     "1f3870aaa29d4d40b0a1faaf0ece4df0": {
      "model_module": "@jupyter-widgets/base",
      "model_module_version": "1.2.0",
      "model_name": "LayoutModel",
      "state": {
       "_model_module": "@jupyter-widgets/base",
       "_model_module_version": "1.2.0",
       "_model_name": "LayoutModel",
       "_view_count": null,
       "_view_module": "@jupyter-widgets/base",
       "_view_module_version": "1.2.0",
       "_view_name": "LayoutView",
       "align_content": null,
       "align_items": null,
       "align_self": null,
       "border": null,
       "bottom": null,
       "display": null,
       "flex": null,
       "flex_flow": null,
       "grid_area": null,
       "grid_auto_columns": null,
       "grid_auto_flow": null,
       "grid_auto_rows": null,
       "grid_column": null,
       "grid_gap": null,
       "grid_row": null,
       "grid_template_areas": null,
       "grid_template_columns": null,
       "grid_template_rows": null,
       "height": null,
       "justify_content": null,
       "justify_items": null,
       "left": null,
       "margin": null,
       "max_height": null,
       "max_width": null,
       "min_height": null,
       "min_width": null,
       "object_fit": null,
       "object_position": null,
       "order": null,
       "overflow": null,
       "overflow_x": null,
       "overflow_y": null,
       "padding": null,
       "right": null,
       "top": null,
       "visibility": null,
       "width": null
      }
     },
     "227c30120fe54116b53a5d56dc2637c1": {
      "model_module": "@jupyter-widgets/controls",
      "model_module_version": "1.5.0",
      "model_name": "HTMLModel",
      "state": {
       "_dom_classes": [],
       "_model_module": "@jupyter-widgets/controls",
       "_model_module_version": "1.5.0",
       "_model_name": "HTMLModel",
       "_view_count": null,
       "_view_module": "@jupyter-widgets/controls",
       "_view_module_version": "1.5.0",
       "_view_name": "HTMLView",
       "description": "",
       "description_tooltip": null,
       "layout": "IPY_MODEL_c3659d7f6c404fc891cfa65058805a60",
       "placeholder": "​",
       "style": "IPY_MODEL_ec839587ff1547f4b8910ad5bee65ec5",
       "value": "Downloading model.safetensors: 100%"
      }
     },
     "22b10cbd056a46a98fd48561224bd3d4": {
      "model_module": "@jupyter-widgets/base",
      "model_module_version": "1.2.0",
      "model_name": "LayoutModel",
      "state": {
       "_model_module": "@jupyter-widgets/base",
       "_model_module_version": "1.2.0",
       "_model_name": "LayoutModel",
       "_view_count": null,
       "_view_module": "@jupyter-widgets/base",
       "_view_module_version": "1.2.0",
       "_view_name": "LayoutView",
       "align_content": null,
       "align_items": null,
       "align_self": null,
       "border": null,
       "bottom": null,
       "display": null,
       "flex": null,
       "flex_flow": null,
       "grid_area": null,
       "grid_auto_columns": null,
       "grid_auto_flow": null,
       "grid_auto_rows": null,
       "grid_column": null,
       "grid_gap": null,
       "grid_row": null,
       "grid_template_areas": null,
       "grid_template_columns": null,
       "grid_template_rows": null,
       "height": null,
       "justify_content": null,
       "justify_items": null,
       "left": null,
       "margin": null,
       "max_height": null,
       "max_width": null,
       "min_height": null,
       "min_width": null,
       "object_fit": null,
       "object_position": null,
       "order": null,
       "overflow": null,
       "overflow_x": null,
       "overflow_y": null,
       "padding": null,
       "right": null,
       "top": null,
       "visibility": null,
       "width": null
      }
     },
     "2307750cde084a17ba4a663db33f0d04": {
      "model_module": "@jupyter-widgets/controls",
      "model_module_version": "1.5.0",
      "model_name": "FloatProgressModel",
      "state": {
       "_dom_classes": [],
       "_model_module": "@jupyter-widgets/controls",
       "_model_module_version": "1.5.0",
       "_model_name": "FloatProgressModel",
       "_view_count": null,
       "_view_module": "@jupyter-widgets/controls",
       "_view_module_version": "1.5.0",
       "_view_name": "ProgressView",
       "bar_style": "success",
       "description": "",
       "description_tooltip": null,
       "layout": "IPY_MODEL_e3468ffa580c48f3b8f10c6c67922157",
       "max": 570.0,
       "min": 0.0,
       "orientation": "horizontal",
       "style": "IPY_MODEL_4aea0718ddac4b30b5cc19866c7a2cb4",
       "value": 570.0
      }
     },
     "2acc42ff70df474eabf5e33f4a3ca412": {
      "model_module": "@jupyter-widgets/base",
      "model_module_version": "1.2.0",
      "model_name": "LayoutModel",
      "state": {
       "_model_module": "@jupyter-widgets/base",
       "_model_module_version": "1.2.0",
       "_model_name": "LayoutModel",
       "_view_count": null,
       "_view_module": "@jupyter-widgets/base",
       "_view_module_version": "1.2.0",
       "_view_name": "LayoutView",
       "align_content": null,
       "align_items": null,
       "align_self": null,
       "border": null,
       "bottom": null,
       "display": null,
       "flex": null,
       "flex_flow": null,
       "grid_area": null,
       "grid_auto_columns": null,
       "grid_auto_flow": null,
       "grid_auto_rows": null,
       "grid_column": null,
       "grid_gap": null,
       "grid_row": null,
       "grid_template_areas": null,
       "grid_template_columns": null,
       "grid_template_rows": null,
       "height": null,
       "justify_content": null,
       "justify_items": null,
       "left": null,
       "margin": null,
       "max_height": null,
       "max_width": null,
       "min_height": null,
       "min_width": null,
       "object_fit": null,
       "object_position": null,
       "order": null,
       "overflow": null,
       "overflow_x": null,
       "overflow_y": null,
       "padding": null,
       "right": null,
       "top": null,
       "visibility": null,
       "width": null
      }
     },
     "3867eaf2ddfb42359c986b9e2b316b89": {
      "model_module": "@jupyter-widgets/base",
      "model_module_version": "1.2.0",
      "model_name": "LayoutModel",
      "state": {
       "_model_module": "@jupyter-widgets/base",
       "_model_module_version": "1.2.0",
       "_model_name": "LayoutModel",
       "_view_count": null,
       "_view_module": "@jupyter-widgets/base",
       "_view_module_version": "1.2.0",
       "_view_name": "LayoutView",
       "align_content": null,
       "align_items": null,
       "align_self": null,
       "border": null,
       "bottom": null,
       "display": null,
       "flex": null,
       "flex_flow": null,
       "grid_area": null,
       "grid_auto_columns": null,
       "grid_auto_flow": null,
       "grid_auto_rows": null,
       "grid_column": null,
       "grid_gap": null,
       "grid_row": null,
       "grid_template_areas": null,
       "grid_template_columns": null,
       "grid_template_rows": null,
       "height": null,
       "justify_content": null,
       "justify_items": null,
       "left": null,
       "margin": null,
       "max_height": null,
       "max_width": null,
       "min_height": null,
       "min_width": null,
       "object_fit": null,
       "object_position": null,
       "order": null,
       "overflow": null,
       "overflow_x": null,
       "overflow_y": null,
       "padding": null,
       "right": null,
       "top": null,
       "visibility": null,
       "width": null
      }
     },
     "4890557f11bc4a31b9a172f60df72b9d": {
      "model_module": "@jupyter-widgets/controls",
      "model_module_version": "1.5.0",
      "model_name": "ProgressStyleModel",
      "state": {
       "_model_module": "@jupyter-widgets/controls",
       "_model_module_version": "1.5.0",
       "_model_name": "ProgressStyleModel",
       "_view_count": null,
       "_view_module": "@jupyter-widgets/base",
       "_view_module_version": "1.2.0",
       "_view_name": "StyleView",
       "bar_color": null,
       "description_width": ""
      }
     },
     "4aea0718ddac4b30b5cc19866c7a2cb4": {
      "model_module": "@jupyter-widgets/controls",
      "model_module_version": "1.5.0",
      "model_name": "ProgressStyleModel",
      "state": {
       "_model_module": "@jupyter-widgets/controls",
       "_model_module_version": "1.5.0",
       "_model_name": "ProgressStyleModel",
       "_view_count": null,
       "_view_module": "@jupyter-widgets/base",
       "_view_module_version": "1.2.0",
       "_view_name": "StyleView",
       "bar_color": null,
       "description_width": ""
      }
     },
     "561d3c007dfb487291870733d75f73be": {
      "model_module": "@jupyter-widgets/base",
      "model_module_version": "1.2.0",
      "model_name": "LayoutModel",
      "state": {
       "_model_module": "@jupyter-widgets/base",
       "_model_module_version": "1.2.0",
       "_model_name": "LayoutModel",
       "_view_count": null,
       "_view_module": "@jupyter-widgets/base",
       "_view_module_version": "1.2.0",
       "_view_name": "LayoutView",
       "align_content": null,
       "align_items": null,
       "align_self": null,
       "border": null,
       "bottom": null,
       "display": null,
       "flex": null,
       "flex_flow": null,
       "grid_area": null,
       "grid_auto_columns": null,
       "grid_auto_flow": null,
       "grid_auto_rows": null,
       "grid_column": null,
       "grid_gap": null,
       "grid_row": null,
       "grid_template_areas": null,
       "grid_template_columns": null,
       "grid_template_rows": null,
       "height": null,
       "justify_content": null,
       "justify_items": null,
       "left": null,
       "margin": null,
       "max_height": null,
       "max_width": null,
       "min_height": null,
       "min_width": null,
       "object_fit": null,
       "object_position": null,
       "order": null,
       "overflow": null,
       "overflow_x": null,
       "overflow_y": null,
       "padding": null,
       "right": null,
       "top": null,
       "visibility": null,
       "width": null
      }
     },
     "56477aa83d734abb83871b92222698cd": {
      "model_module": "@jupyter-widgets/controls",
      "model_module_version": "1.5.0",
      "model_name": "HBoxModel",
      "state": {
       "_dom_classes": [],
       "_model_module": "@jupyter-widgets/controls",
       "_model_module_version": "1.5.0",
       "_model_name": "HBoxModel",
       "_view_count": null,
       "_view_module": "@jupyter-widgets/controls",
       "_view_module_version": "1.5.0",
       "_view_name": "HBoxView",
       "box_style": "",
       "children": [
        "IPY_MODEL_227c30120fe54116b53a5d56dc2637c1",
        "IPY_MODEL_679b576ce7f3454e94d0d890aa16bd87",
        "IPY_MODEL_be1fb35be010488aad684c3c2292c537"
       ],
       "layout": "IPY_MODEL_be7bc8a7c4cf4fbfbd98acb6843776b4"
      }
     },
     "574cc3e342264fc1af90dd9425c700b5": {
      "model_module": "@jupyter-widgets/controls",
      "model_module_version": "1.5.0",
      "model_name": "HBoxModel",
      "state": {
       "_dom_classes": [],
       "_model_module": "@jupyter-widgets/controls",
       "_model_module_version": "1.5.0",
       "_model_name": "HBoxModel",
       "_view_count": null,
       "_view_module": "@jupyter-widgets/controls",
       "_view_module_version": "1.5.0",
       "_view_name": "HBoxView",
       "box_style": "",
       "children": [
        "IPY_MODEL_85bd26c4fd6b4e129139adb835c7f490",
        "IPY_MODEL_2307750cde084a17ba4a663db33f0d04",
        "IPY_MODEL_f0cfa8d753294d18ba0ca5db1bf05a37"
       ],
       "layout": "IPY_MODEL_8473619ec21840bda261535f6ddc2296"
      }
     },
     "5c4a30299f0b477a981442721054933a": {
      "model_module": "@jupyter-widgets/controls",
      "model_module_version": "1.5.0",
      "model_name": "DescriptionStyleModel",
      "state": {
       "_model_module": "@jupyter-widgets/controls",
       "_model_module_version": "1.5.0",
       "_model_name": "DescriptionStyleModel",
       "_view_count": null,
       "_view_module": "@jupyter-widgets/base",
       "_view_module_version": "1.2.0",
       "_view_name": "StyleView",
       "description_width": ""
      }
     },
     "679b576ce7f3454e94d0d890aa16bd87": {
      "model_module": "@jupyter-widgets/controls",
      "model_module_version": "1.5.0",
      "model_name": "FloatProgressModel",
      "state": {
       "_dom_classes": [],
       "_model_module": "@jupyter-widgets/controls",
       "_model_module_version": "1.5.0",
       "_model_name": "FloatProgressModel",
       "_view_count": null,
       "_view_module": "@jupyter-widgets/controls",
       "_view_module_version": "1.5.0",
       "_view_name": "ProgressView",
       "bar_style": "success",
       "description": "",
       "description_tooltip": null,
       "layout": "IPY_MODEL_82b6b17e09c04d61a953de2d2accffcd",
       "max": 440449768.0,
       "min": 0.0,
       "orientation": "horizontal",
       "style": "IPY_MODEL_10ea7636908745e0a58d7113206a43a0",
       "value": 440449768.0
      }
     },
     "68a4d5a0381f4d6c8aeabfa323948bcf": {
      "model_module": "@jupyter-widgets/controls",
      "model_module_version": "1.5.0",
      "model_name": "FloatProgressModel",
      "state": {
       "_dom_classes": [],
       "_model_module": "@jupyter-widgets/controls",
       "_model_module_version": "1.5.0",
       "_model_name": "FloatProgressModel",
       "_view_count": null,
       "_view_module": "@jupyter-widgets/controls",
       "_view_module_version": "1.5.0",
       "_view_name": "ProgressView",
       "bar_style": "success",
       "description": "",
       "description_tooltip": null,
       "layout": "IPY_MODEL_fd2c5fb015de40ec9bff5945ff60dded",
       "max": 28.0,
       "min": 0.0,
       "orientation": "horizontal",
       "style": "IPY_MODEL_4890557f11bc4a31b9a172f60df72b9d",
       "value": 28.0
      }
     },
     "82b6b17e09c04d61a953de2d2accffcd": {
      "model_module": "@jupyter-widgets/base",
      "model_module_version": "1.2.0",
      "model_name": "LayoutModel",
      "state": {
       "_model_module": "@jupyter-widgets/base",
       "_model_module_version": "1.2.0",
       "_model_name": "LayoutModel",
       "_view_count": null,
       "_view_module": "@jupyter-widgets/base",
       "_view_module_version": "1.2.0",
       "_view_name": "LayoutView",
       "align_content": null,
       "align_items": null,
       "align_self": null,
       "border": null,
       "bottom": null,
       "display": null,
       "flex": null,
       "flex_flow": null,
       "grid_area": null,
       "grid_auto_columns": null,
       "grid_auto_flow": null,
       "grid_auto_rows": null,
       "grid_column": null,
       "grid_gap": null,
       "grid_row": null,
       "grid_template_areas": null,
       "grid_template_columns": null,
       "grid_template_rows": null,
       "height": null,
       "justify_content": null,
       "justify_items": null,
       "left": null,
       "margin": null,
       "max_height": null,
       "max_width": null,
       "min_height": null,
       "min_width": null,
       "object_fit": null,
       "object_position": null,
       "order": null,
       "overflow": null,
       "overflow_x": null,
       "overflow_y": null,
       "padding": null,
       "right": null,
       "top": null,
       "visibility": null,
       "width": null
      }
     },
     "83794a3f2689425987be6bd89630db94": {
      "model_module": "@jupyter-widgets/controls",
      "model_module_version": "1.5.0",
      "model_name": "HTMLModel",
      "state": {
       "_dom_classes": [],
       "_model_module": "@jupyter-widgets/controls",
       "_model_module_version": "1.5.0",
       "_model_name": "HTMLModel",
       "_view_count": null,
       "_view_module": "@jupyter-widgets/controls",
       "_view_module_version": "1.5.0",
       "_view_name": "HTMLView",
       "description": "",
       "description_tooltip": null,
       "layout": "IPY_MODEL_3867eaf2ddfb42359c986b9e2b316b89",
       "placeholder": "​",
       "style": "IPY_MODEL_993d157341dd489db44923d504f5671e",
       "value": " 232k/232k [00:00&lt;00:00, 1.79MB/s]"
      }
     },
     "8473619ec21840bda261535f6ddc2296": {
      "model_module": "@jupyter-widgets/base",
      "model_module_version": "1.2.0",
      "model_name": "LayoutModel",
      "state": {
       "_model_module": "@jupyter-widgets/base",
       "_model_module_version": "1.2.0",
       "_model_name": "LayoutModel",
       "_view_count": null,
       "_view_module": "@jupyter-widgets/base",
       "_view_module_version": "1.2.0",
       "_view_name": "LayoutView",
       "align_content": null,
       "align_items": null,
       "align_self": null,
       "border": null,
       "bottom": null,
       "display": null,
       "flex": null,
       "flex_flow": null,
       "grid_area": null,
       "grid_auto_columns": null,
       "grid_auto_flow": null,
       "grid_auto_rows": null,
       "grid_column": null,
       "grid_gap": null,
       "grid_row": null,
       "grid_template_areas": null,
       "grid_template_columns": null,
       "grid_template_rows": null,
       "height": null,
       "justify_content": null,
       "justify_items": null,
       "left": null,
       "margin": null,
       "max_height": null,
       "max_width": null,
       "min_height": null,
       "min_width": null,
       "object_fit": null,
       "object_position": null,
       "order": null,
       "overflow": null,
       "overflow_x": null,
       "overflow_y": null,
       "padding": null,
       "right": null,
       "top": null,
       "visibility": null,
       "width": null
      }
     },
     "85bd26c4fd6b4e129139adb835c7f490": {
      "model_module": "@jupyter-widgets/controls",
      "model_module_version": "1.5.0",
      "model_name": "HTMLModel",
      "state": {
       "_dom_classes": [],
       "_model_module": "@jupyter-widgets/controls",
       "_model_module_version": "1.5.0",
       "_model_name": "HTMLModel",
       "_view_count": null,
       "_view_module": "@jupyter-widgets/controls",
       "_view_module_version": "1.5.0",
       "_view_name": "HTMLView",
       "description": "",
       "description_tooltip": null,
       "layout": "IPY_MODEL_12c1226899ca4737a30e7d146ac6c1a0",
       "placeholder": "​",
       "style": "IPY_MODEL_0dfee13fadcd4360a00b3f110d51a48e",
       "value": "Downloading (…)lve/main/config.json: 100%"
      }
     },
     "9226fcb9df524b2aa9e66d4b81b966f1": {
      "model_module": "@jupyter-widgets/controls",
      "model_module_version": "1.5.0",
      "model_name": "DescriptionStyleModel",
      "state": {
       "_model_module": "@jupyter-widgets/controls",
       "_model_module_version": "1.5.0",
       "_model_name": "DescriptionStyleModel",
       "_view_count": null,
       "_view_module": "@jupyter-widgets/base",
       "_view_module_version": "1.2.0",
       "_view_name": "StyleView",
       "description_width": ""
      }
     },
     "926a437fe4eb4b0aa8b4df3d546c8603": {
      "model_module": "@jupyter-widgets/controls",
      "model_module_version": "1.5.0",
      "model_name": "DescriptionStyleModel",
      "state": {
       "_model_module": "@jupyter-widgets/controls",
       "_model_module_version": "1.5.0",
       "_model_name": "DescriptionStyleModel",
       "_view_count": null,
       "_view_module": "@jupyter-widgets/base",
       "_view_module_version": "1.2.0",
       "_view_name": "StyleView",
       "description_width": ""
      }
     },
     "993d157341dd489db44923d504f5671e": {
      "model_module": "@jupyter-widgets/controls",
      "model_module_version": "1.5.0",
      "model_name": "DescriptionStyleModel",
      "state": {
       "_model_module": "@jupyter-widgets/controls",
       "_model_module_version": "1.5.0",
       "_model_name": "DescriptionStyleModel",
       "_view_count": null,
       "_view_module": "@jupyter-widgets/base",
       "_view_module_version": "1.2.0",
       "_view_name": "StyleView",
       "description_width": ""
      }
     },
     "9c6d59a10344462fa5b62cb871b61f82": {
      "model_module": "@jupyter-widgets/controls",
      "model_module_version": "1.5.0",
      "model_name": "HTMLModel",
      "state": {
       "_dom_classes": [],
       "_model_module": "@jupyter-widgets/controls",
       "_model_module_version": "1.5.0",
       "_model_name": "HTMLModel",
       "_view_count": null,
       "_view_module": "@jupyter-widgets/controls",
       "_view_module_version": "1.5.0",
       "_view_name": "HTMLView",
       "description": "",
       "description_tooltip": null,
       "layout": "IPY_MODEL_22b10cbd056a46a98fd48561224bd3d4",
       "placeholder": "​",
       "style": "IPY_MODEL_9226fcb9df524b2aa9e66d4b81b966f1",
       "value": " 28.0/28.0 [00:00&lt;00:00, 1.94kB/s]"
      }
     },
     "9f1945aa261b4133af40b4f6667f1735": {
      "model_module": "@jupyter-widgets/base",
      "model_module_version": "1.2.0",
      "model_name": "LayoutModel",
      "state": {
       "_model_module": "@jupyter-widgets/base",
       "_model_module_version": "1.2.0",
       "_model_name": "LayoutModel",
       "_view_count": null,
       "_view_module": "@jupyter-widgets/base",
       "_view_module_version": "1.2.0",
       "_view_name": "LayoutView",
       "align_content": null,
       "align_items": null,
       "align_self": null,
       "border": null,
       "bottom": null,
       "display": null,
       "flex": null,
       "flex_flow": null,
       "grid_area": null,
       "grid_auto_columns": null,
       "grid_auto_flow": null,
       "grid_auto_rows": null,
       "grid_column": null,
       "grid_gap": null,
       "grid_row": null,
       "grid_template_areas": null,
       "grid_template_columns": null,
       "grid_template_rows": null,
       "height": null,
       "justify_content": null,
       "justify_items": null,
       "left": null,
       "margin": null,
       "max_height": null,
       "max_width": null,
       "min_height": null,
       "min_width": null,
       "object_fit": null,
       "object_position": null,
       "order": null,
       "overflow": null,
       "overflow_x": null,
       "overflow_y": null,
       "padding": null,
       "right": null,
       "top": null,
       "visibility": null,
       "width": null
      }
     },
     "a4fb2efc78bc44a6ab7720f84fe9d032": {
      "model_module": "@jupyter-widgets/base",
      "model_module_version": "1.2.0",
      "model_name": "LayoutModel",
      "state": {
       "_model_module": "@jupyter-widgets/base",
       "_model_module_version": "1.2.0",
       "_model_name": "LayoutModel",
       "_view_count": null,
       "_view_module": "@jupyter-widgets/base",
       "_view_module_version": "1.2.0",
       "_view_name": "LayoutView",
       "align_content": null,
       "align_items": null,
       "align_self": null,
       "border": null,
       "bottom": null,
       "display": null,
       "flex": null,
       "flex_flow": null,
       "grid_area": null,
       "grid_auto_columns": null,
       "grid_auto_flow": null,
       "grid_auto_rows": null,
       "grid_column": null,
       "grid_gap": null,
       "grid_row": null,
       "grid_template_areas": null,
       "grid_template_columns": null,
       "grid_template_rows": null,
       "height": null,
       "justify_content": null,
       "justify_items": null,
       "left": null,
       "margin": null,
       "max_height": null,
       "max_width": null,
       "min_height": null,
       "min_width": null,
       "object_fit": null,
       "object_position": null,
       "order": null,
       "overflow": null,
       "overflow_x": null,
       "overflow_y": null,
       "padding": null,
       "right": null,
       "top": null,
       "visibility": null,
       "width": null
      }
     },
     "a80ea3d751d54b0c8581ca4c2c89da68": {
      "model_module": "@jupyter-widgets/controls",
      "model_module_version": "1.5.0",
      "model_name": "FloatProgressModel",
      "state": {
       "_dom_classes": [],
       "_model_module": "@jupyter-widgets/controls",
       "_model_module_version": "1.5.0",
       "_model_name": "FloatProgressModel",
       "_view_count": null,
       "_view_module": "@jupyter-widgets/controls",
       "_view_module_version": "1.5.0",
       "_view_name": "ProgressView",
       "bar_style": "success",
       "description": "",
       "description_tooltip": null,
       "layout": "IPY_MODEL_1f3870aaa29d4d40b0a1faaf0ece4df0",
       "max": 231508.0,
       "min": 0.0,
       "orientation": "horizontal",
       "style": "IPY_MODEL_d13aba1c2b694adfb596e211733b505a",
       "value": 231508.0
      }
     },
     "be1fb35be010488aad684c3c2292c537": {
      "model_module": "@jupyter-widgets/controls",
      "model_module_version": "1.5.0",
      "model_name": "HTMLModel",
      "state": {
       "_dom_classes": [],
       "_model_module": "@jupyter-widgets/controls",
       "_model_module_version": "1.5.0",
       "_model_name": "HTMLModel",
       "_view_count": null,
       "_view_module": "@jupyter-widgets/controls",
       "_view_module_version": "1.5.0",
       "_view_name": "HTMLView",
       "description": "",
       "description_tooltip": null,
       "layout": "IPY_MODEL_561d3c007dfb487291870733d75f73be",
       "placeholder": "​",
       "style": "IPY_MODEL_5c4a30299f0b477a981442721054933a",
       "value": " 440M/440M [00:01&lt;00:00, 315MB/s]"
      }
     },
     "be7bc8a7c4cf4fbfbd98acb6843776b4": {
      "model_module": "@jupyter-widgets/base",
      "model_module_version": "1.2.0",
      "model_name": "LayoutModel",
      "state": {
       "_model_module": "@jupyter-widgets/base",
       "_model_module_version": "1.2.0",
       "_model_name": "LayoutModel",
       "_view_count": null,
       "_view_module": "@jupyter-widgets/base",
       "_view_module_version": "1.2.0",
       "_view_name": "LayoutView",
       "align_content": null,
       "align_items": null,
       "align_self": null,
       "border": null,
       "bottom": null,
       "display": null,
       "flex": null,
       "flex_flow": null,
       "grid_area": null,
       "grid_auto_columns": null,
       "grid_auto_flow": null,
       "grid_auto_rows": null,
       "grid_column": null,
       "grid_gap": null,
       "grid_row": null,
       "grid_template_areas": null,
       "grid_template_columns": null,
       "grid_template_rows": null,
       "height": null,
       "justify_content": null,
       "justify_items": null,
       "left": null,
       "margin": null,
       "max_height": null,
       "max_width": null,
       "min_height": null,
       "min_width": null,
       "object_fit": null,
       "object_position": null,
       "order": null,
       "overflow": null,
       "overflow_x": null,
       "overflow_y": null,
       "padding": null,
       "right": null,
       "top": null,
       "visibility": null,
       "width": null
      }
     },
     "c3659d7f6c404fc891cfa65058805a60": {
      "model_module": "@jupyter-widgets/base",
      "model_module_version": "1.2.0",
      "model_name": "LayoutModel",
      "state": {
       "_model_module": "@jupyter-widgets/base",
       "_model_module_version": "1.2.0",
       "_model_name": "LayoutModel",
       "_view_count": null,
       "_view_module": "@jupyter-widgets/base",
       "_view_module_version": "1.2.0",
       "_view_name": "LayoutView",
       "align_content": null,
       "align_items": null,
       "align_self": null,
       "border": null,
       "bottom": null,
       "display": null,
       "flex": null,
       "flex_flow": null,
       "grid_area": null,
       "grid_auto_columns": null,
       "grid_auto_flow": null,
       "grid_auto_rows": null,
       "grid_column": null,
       "grid_gap": null,
       "grid_row": null,
       "grid_template_areas": null,
       "grid_template_columns": null,
       "grid_template_rows": null,
       "height": null,
       "justify_content": null,
       "justify_items": null,
       "left": null,
       "margin": null,
       "max_height": null,
       "max_width": null,
       "min_height": null,
       "min_width": null,
       "object_fit": null,
       "object_position": null,
       "order": null,
       "overflow": null,
       "overflow_x": null,
       "overflow_y": null,
       "padding": null,
       "right": null,
       "top": null,
       "visibility": null,
       "width": null
      }
     },
     "d13aba1c2b694adfb596e211733b505a": {
      "model_module": "@jupyter-widgets/controls",
      "model_module_version": "1.5.0",
      "model_name": "ProgressStyleModel",
      "state": {
       "_model_module": "@jupyter-widgets/controls",
       "_model_module_version": "1.5.0",
       "_model_name": "ProgressStyleModel",
       "_view_count": null,
       "_view_module": "@jupyter-widgets/base",
       "_view_module_version": "1.2.0",
       "_view_name": "StyleView",
       "bar_color": null,
       "description_width": ""
      }
     },
     "d21bd9fa1a1a4942bbe0472131282f95": {
      "model_module": "@jupyter-widgets/controls",
      "model_module_version": "1.5.0",
      "model_name": "DescriptionStyleModel",
      "state": {
       "_model_module": "@jupyter-widgets/controls",
       "_model_module_version": "1.5.0",
       "_model_name": "DescriptionStyleModel",
       "_view_count": null,
       "_view_module": "@jupyter-widgets/base",
       "_view_module_version": "1.2.0",
       "_view_name": "StyleView",
       "description_width": ""
      }
     },
     "d4320aaecbe949498a8636d4fe7f1737": {
      "model_module": "@jupyter-widgets/base",
      "model_module_version": "1.2.0",
      "model_name": "LayoutModel",
      "state": {
       "_model_module": "@jupyter-widgets/base",
       "_model_module_version": "1.2.0",
       "_model_name": "LayoutModel",
       "_view_count": null,
       "_view_module": "@jupyter-widgets/base",
       "_view_module_version": "1.2.0",
       "_view_name": "LayoutView",
       "align_content": null,
       "align_items": null,
       "align_self": null,
       "border": null,
       "bottom": null,
       "display": null,
       "flex": null,
       "flex_flow": null,
       "grid_area": null,
       "grid_auto_columns": null,
       "grid_auto_flow": null,
       "grid_auto_rows": null,
       "grid_column": null,
       "grid_gap": null,
       "grid_row": null,
       "grid_template_areas": null,
       "grid_template_columns": null,
       "grid_template_rows": null,
       "height": null,
       "justify_content": null,
       "justify_items": null,
       "left": null,
       "margin": null,
       "max_height": null,
       "max_width": null,
       "min_height": null,
       "min_width": null,
       "object_fit": null,
       "object_position": null,
       "order": null,
       "overflow": null,
       "overflow_x": null,
       "overflow_y": null,
       "padding": null,
       "right": null,
       "top": null,
       "visibility": null,
       "width": null
      }
     },
     "dd6e0f46cde6423da44a5ecb989e65e5": {
      "model_module": "@jupyter-widgets/controls",
      "model_module_version": "1.5.0",
      "model_name": "HTMLModel",
      "state": {
       "_dom_classes": [],
       "_model_module": "@jupyter-widgets/controls",
       "_model_module_version": "1.5.0",
       "_model_name": "HTMLModel",
       "_view_count": null,
       "_view_module": "@jupyter-widgets/controls",
       "_view_module_version": "1.5.0",
       "_view_name": "HTMLView",
       "description": "",
       "description_tooltip": null,
       "layout": "IPY_MODEL_9f1945aa261b4133af40b4f6667f1735",
       "placeholder": "​",
       "style": "IPY_MODEL_926a437fe4eb4b0aa8b4df3d546c8603",
       "value": "Downloading (…)solve/main/vocab.txt: 100%"
      }
     },
     "e06d381ebe0b4098a12be3e235606924": {
      "model_module": "@jupyter-widgets/controls",
      "model_module_version": "1.5.0",
      "model_name": "HBoxModel",
      "state": {
       "_dom_classes": [],
       "_model_module": "@jupyter-widgets/controls",
       "_model_module_version": "1.5.0",
       "_model_name": "HBoxModel",
       "_view_count": null,
       "_view_module": "@jupyter-widgets/controls",
       "_view_module_version": "1.5.0",
       "_view_name": "HBoxView",
       "box_style": "",
       "children": [
        "IPY_MODEL_dd6e0f46cde6423da44a5ecb989e65e5",
        "IPY_MODEL_a80ea3d751d54b0c8581ca4c2c89da68",
        "IPY_MODEL_83794a3f2689425987be6bd89630db94"
       ],
       "layout": "IPY_MODEL_a4fb2efc78bc44a6ab7720f84fe9d032"
      }
     },
     "e3468ffa580c48f3b8f10c6c67922157": {
      "model_module": "@jupyter-widgets/base",
      "model_module_version": "1.2.0",
      "model_name": "LayoutModel",
      "state": {
       "_model_module": "@jupyter-widgets/base",
       "_model_module_version": "1.2.0",
       "_model_name": "LayoutModel",
       "_view_count": null,
       "_view_module": "@jupyter-widgets/base",
       "_view_module_version": "1.2.0",
       "_view_name": "LayoutView",
       "align_content": null,
       "align_items": null,
       "align_self": null,
       "border": null,
       "bottom": null,
       "display": null,
       "flex": null,
       "flex_flow": null,
       "grid_area": null,
       "grid_auto_columns": null,
       "grid_auto_flow": null,
       "grid_auto_rows": null,
       "grid_column": null,
       "grid_gap": null,
       "grid_row": null,
       "grid_template_areas": null,
       "grid_template_columns": null,
       "grid_template_rows": null,
       "height": null,
       "justify_content": null,
       "justify_items": null,
       "left": null,
       "margin": null,
       "max_height": null,
       "max_width": null,
       "min_height": null,
       "min_width": null,
       "object_fit": null,
       "object_position": null,
       "order": null,
       "overflow": null,
       "overflow_x": null,
       "overflow_y": null,
       "padding": null,
       "right": null,
       "top": null,
       "visibility": null,
       "width": null
      }
     },
     "ea6fcb93487b4ce1bf6e0052516827de": {
      "model_module": "@jupyter-widgets/base",
      "model_module_version": "1.2.0",
      "model_name": "LayoutModel",
      "state": {
       "_model_module": "@jupyter-widgets/base",
       "_model_module_version": "1.2.0",
       "_model_name": "LayoutModel",
       "_view_count": null,
       "_view_module": "@jupyter-widgets/base",
       "_view_module_version": "1.2.0",
       "_view_name": "LayoutView",
       "align_content": null,
       "align_items": null,
       "align_self": null,
       "border": null,
       "bottom": null,
       "display": null,
       "flex": null,
       "flex_flow": null,
       "grid_area": null,
       "grid_auto_columns": null,
       "grid_auto_flow": null,
       "grid_auto_rows": null,
       "grid_column": null,
       "grid_gap": null,
       "grid_row": null,
       "grid_template_areas": null,
       "grid_template_columns": null,
       "grid_template_rows": null,
       "height": null,
       "justify_content": null,
       "justify_items": null,
       "left": null,
       "margin": null,
       "max_height": null,
       "max_width": null,
       "min_height": null,
       "min_width": null,
       "object_fit": null,
       "object_position": null,
       "order": null,
       "overflow": null,
       "overflow_x": null,
       "overflow_y": null,
       "padding": null,
       "right": null,
       "top": null,
       "visibility": null,
       "width": null
      }
     },
     "ec52cb0f024c49369f166d5d50e71450": {
      "model_module": "@jupyter-widgets/controls",
      "model_module_version": "1.5.0",
      "model_name": "DescriptionStyleModel",
      "state": {
       "_model_module": "@jupyter-widgets/controls",
       "_model_module_version": "1.5.0",
       "_model_name": "DescriptionStyleModel",
       "_view_count": null,
       "_view_module": "@jupyter-widgets/base",
       "_view_module_version": "1.2.0",
       "_view_name": "StyleView",
       "description_width": ""
      }
     },
     "ec839587ff1547f4b8910ad5bee65ec5": {
      "model_module": "@jupyter-widgets/controls",
      "model_module_version": "1.5.0",
      "model_name": "DescriptionStyleModel",
      "state": {
       "_model_module": "@jupyter-widgets/controls",
       "_model_module_version": "1.5.0",
       "_model_name": "DescriptionStyleModel",
       "_view_count": null,
       "_view_module": "@jupyter-widgets/base",
       "_view_module_version": "1.2.0",
       "_view_name": "StyleView",
       "description_width": ""
      }
     },
     "f0cfa8d753294d18ba0ca5db1bf05a37": {
      "model_module": "@jupyter-widgets/controls",
      "model_module_version": "1.5.0",
      "model_name": "HTMLModel",
      "state": {
       "_dom_classes": [],
       "_model_module": "@jupyter-widgets/controls",
       "_model_module_version": "1.5.0",
       "_model_name": "HTMLModel",
       "_view_count": null,
       "_view_module": "@jupyter-widgets/controls",
       "_view_module_version": "1.5.0",
       "_view_name": "HTMLView",
       "description": "",
       "description_tooltip": null,
       "layout": "IPY_MODEL_ea6fcb93487b4ce1bf6e0052516827de",
       "placeholder": "​",
       "style": "IPY_MODEL_d21bd9fa1a1a4942bbe0472131282f95",
       "value": " 570/570 [00:00&lt;00:00, 39.9kB/s]"
      }
     },
     "fd2c5fb015de40ec9bff5945ff60dded": {
      "model_module": "@jupyter-widgets/base",
      "model_module_version": "1.2.0",
      "model_name": "LayoutModel",
      "state": {
       "_model_module": "@jupyter-widgets/base",
       "_model_module_version": "1.2.0",
       "_model_name": "LayoutModel",
       "_view_count": null,
       "_view_module": "@jupyter-widgets/base",
       "_view_module_version": "1.2.0",
       "_view_name": "LayoutView",
       "align_content": null,
       "align_items": null,
       "align_self": null,
       "border": null,
       "bottom": null,
       "display": null,
       "flex": null,
       "flex_flow": null,
       "grid_area": null,
       "grid_auto_columns": null,
       "grid_auto_flow": null,
       "grid_auto_rows": null,
       "grid_column": null,
       "grid_gap": null,
       "grid_row": null,
       "grid_template_areas": null,
       "grid_template_columns": null,
       "grid_template_rows": null,
       "height": null,
       "justify_content": null,
       "justify_items": null,
       "left": null,
       "margin": null,
       "max_height": null,
       "max_width": null,
       "min_height": null,
       "min_width": null,
       "object_fit": null,
       "object_position": null,
       "order": null,
       "overflow": null,
       "overflow_x": null,
       "overflow_y": null,
       "padding": null,
       "right": null,
       "top": null,
       "visibility": null,
       "width": null
      }
     }
    },
    "version_major": 2,
    "version_minor": 0
   }
  }
 },
 "nbformat": 4,
 "nbformat_minor": 5
}
